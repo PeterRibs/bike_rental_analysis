{
 "cells": [
  {
   "attachments": {},
   "cell_type": "markdown",
   "id": "cd73e44d",
   "metadata": {},
   "source": [
    "# Importando os pacotes"
   ]
  },
  {
   "cell_type": "code",
   "execution_count": 1,
   "id": "c72a526a",
   "metadata": {},
   "outputs": [],
   "source": [
    "import pandas as pd\n",
    "import numpy as np\n",
    "\n",
    "import matplotlib.pyplot as plt\n",
    "import seaborn as sns\n",
    "\n",
    "from sklearn.metrics import r2_score\n",
    "from scipy.stats import shapiro"
   ]
  },
  {
   "attachments": {},
   "cell_type": "markdown",
   "id": "b063aa44",
   "metadata": {},
   "source": [
    "## Importando o dataframe"
   ]
  },
  {
   "cell_type": "code",
   "execution_count": 2,
   "id": "115f444b",
   "metadata": {},
   "outputs": [],
   "source": [
    "dataframe = pd.read_csv(\"daily-bike-share.csv\")"
   ]
  },
  {
   "attachments": {},
   "cell_type": "markdown",
   "id": "75ead10c",
   "metadata": {},
   "source": [
    "## Explorando o dataframe"
   ]
  },
  {
   "cell_type": "code",
   "execution_count": 3,
   "id": "8aab2d5f",
   "metadata": {},
   "outputs": [
    {
     "data": {
      "text/plain": [
       "(731, 13)"
      ]
     },
     "execution_count": 3,
     "metadata": {},
     "output_type": "execute_result"
    }
   ],
   "source": [
    "dataframe.shape"
   ]
  },
  {
   "cell_type": "code",
   "execution_count": 4,
   "id": "acb3a2f4",
   "metadata": {},
   "outputs": [
    {
     "data": {
      "text/plain": [
       "Index(['day', 'mnth', 'year', 'season', 'holiday', 'weekday', 'workingday',\n",
       "       'weathersit', 'temp', 'atemp', 'hum', 'windspeed', 'rentals'],\n",
       "      dtype='object')"
      ]
     },
     "execution_count": 4,
     "metadata": {},
     "output_type": "execute_result"
    }
   ],
   "source": [
    "dataframe.columns"
   ]
  },
  {
   "cell_type": "code",
   "execution_count": 5,
   "id": "d30e057e",
   "metadata": {},
   "outputs": [
    {
     "data": {
      "text/html": [
       "<div>\n",
       "<style scoped>\n",
       "    .dataframe tbody tr th:only-of-type {\n",
       "        vertical-align: middle;\n",
       "    }\n",
       "\n",
       "    .dataframe tbody tr th {\n",
       "        vertical-align: top;\n",
       "    }\n",
       "\n",
       "    .dataframe thead th {\n",
       "        text-align: right;\n",
       "    }\n",
       "</style>\n",
       "<table border=\"1\" class=\"dataframe\">\n",
       "  <thead>\n",
       "    <tr style=\"text-align: right;\">\n",
       "      <th></th>\n",
       "      <th>day</th>\n",
       "      <th>mnth</th>\n",
       "      <th>year</th>\n",
       "      <th>season</th>\n",
       "      <th>holiday</th>\n",
       "      <th>weekday</th>\n",
       "      <th>workingday</th>\n",
       "      <th>weathersit</th>\n",
       "      <th>temp</th>\n",
       "      <th>atemp</th>\n",
       "      <th>hum</th>\n",
       "      <th>windspeed</th>\n",
       "      <th>rentals</th>\n",
       "    </tr>\n",
       "  </thead>\n",
       "  <tbody>\n",
       "    <tr>\n",
       "      <th>0</th>\n",
       "      <td>1</td>\n",
       "      <td>1</td>\n",
       "      <td>2011</td>\n",
       "      <td>1</td>\n",
       "      <td>0</td>\n",
       "      <td>6</td>\n",
       "      <td>0</td>\n",
       "      <td>2</td>\n",
       "      <td>0.344167</td>\n",
       "      <td>0.363625</td>\n",
       "      <td>0.805833</td>\n",
       "      <td>0.160446</td>\n",
       "      <td>331</td>\n",
       "    </tr>\n",
       "    <tr>\n",
       "      <th>1</th>\n",
       "      <td>2</td>\n",
       "      <td>1</td>\n",
       "      <td>2011</td>\n",
       "      <td>1</td>\n",
       "      <td>0</td>\n",
       "      <td>0</td>\n",
       "      <td>0</td>\n",
       "      <td>2</td>\n",
       "      <td>0.363478</td>\n",
       "      <td>0.353739</td>\n",
       "      <td>0.696087</td>\n",
       "      <td>0.248539</td>\n",
       "      <td>131</td>\n",
       "    </tr>\n",
       "    <tr>\n",
       "      <th>2</th>\n",
       "      <td>3</td>\n",
       "      <td>1</td>\n",
       "      <td>2011</td>\n",
       "      <td>1</td>\n",
       "      <td>0</td>\n",
       "      <td>1</td>\n",
       "      <td>1</td>\n",
       "      <td>1</td>\n",
       "      <td>0.196364</td>\n",
       "      <td>0.189405</td>\n",
       "      <td>0.437273</td>\n",
       "      <td>0.248309</td>\n",
       "      <td>120</td>\n",
       "    </tr>\n",
       "    <tr>\n",
       "      <th>3</th>\n",
       "      <td>4</td>\n",
       "      <td>1</td>\n",
       "      <td>2011</td>\n",
       "      <td>1</td>\n",
       "      <td>0</td>\n",
       "      <td>2</td>\n",
       "      <td>1</td>\n",
       "      <td>1</td>\n",
       "      <td>0.200000</td>\n",
       "      <td>0.212122</td>\n",
       "      <td>0.590435</td>\n",
       "      <td>0.160296</td>\n",
       "      <td>108</td>\n",
       "    </tr>\n",
       "    <tr>\n",
       "      <th>4</th>\n",
       "      <td>5</td>\n",
       "      <td>1</td>\n",
       "      <td>2011</td>\n",
       "      <td>1</td>\n",
       "      <td>0</td>\n",
       "      <td>3</td>\n",
       "      <td>1</td>\n",
       "      <td>1</td>\n",
       "      <td>0.226957</td>\n",
       "      <td>0.229270</td>\n",
       "      <td>0.436957</td>\n",
       "      <td>0.186900</td>\n",
       "      <td>82</td>\n",
       "    </tr>\n",
       "  </tbody>\n",
       "</table>\n",
       "</div>"
      ],
      "text/plain": [
       "   day  mnth  year  season  holiday  weekday  workingday  weathersit   \n",
       "0    1     1  2011       1        0        6           0           2  \\\n",
       "1    2     1  2011       1        0        0           0           2   \n",
       "2    3     1  2011       1        0        1           1           1   \n",
       "3    4     1  2011       1        0        2           1           1   \n",
       "4    5     1  2011       1        0        3           1           1   \n",
       "\n",
       "       temp     atemp       hum  windspeed  rentals  \n",
       "0  0.344167  0.363625  0.805833   0.160446      331  \n",
       "1  0.363478  0.353739  0.696087   0.248539      131  \n",
       "2  0.196364  0.189405  0.437273   0.248309      120  \n",
       "3  0.200000  0.212122  0.590435   0.160296      108  \n",
       "4  0.226957  0.229270  0.436957   0.186900       82  "
      ]
     },
     "execution_count": 5,
     "metadata": {},
     "output_type": "execute_result"
    }
   ],
   "source": [
    "dataframe.head()"
   ]
  },
  {
   "cell_type": "code",
   "execution_count": 6,
   "id": "ebd9a7d9",
   "metadata": {},
   "outputs": [
    {
     "name": "stdout",
     "output_type": "stream",
     "text": [
      "<class 'pandas.core.frame.DataFrame'>\n",
      "RangeIndex: 731 entries, 0 to 730\n",
      "Data columns (total 13 columns):\n",
      " #   Column      Non-Null Count  Dtype  \n",
      "---  ------      --------------  -----  \n",
      " 0   day         731 non-null    int64  \n",
      " 1   mnth        731 non-null    int64  \n",
      " 2   year        731 non-null    int64  \n",
      " 3   season      731 non-null    int64  \n",
      " 4   holiday     731 non-null    int64  \n",
      " 5   weekday     731 non-null    int64  \n",
      " 6   workingday  731 non-null    int64  \n",
      " 7   weathersit  731 non-null    int64  \n",
      " 8   temp        731 non-null    float64\n",
      " 9   atemp       731 non-null    float64\n",
      " 10  hum         731 non-null    float64\n",
      " 11  windspeed   731 non-null    float64\n",
      " 12  rentals     731 non-null    int64  \n",
      "dtypes: float64(4), int64(9)\n",
      "memory usage: 74.4 KB\n"
     ]
    }
   ],
   "source": [
    "dataframe.info()"
   ]
  },
  {
   "cell_type": "code",
   "execution_count": 7,
   "id": "417be560",
   "metadata": {},
   "outputs": [
    {
     "data": {
      "text/html": [
       "<div>\n",
       "<style scoped>\n",
       "    .dataframe tbody tr th:only-of-type {\n",
       "        vertical-align: middle;\n",
       "    }\n",
       "\n",
       "    .dataframe tbody tr th {\n",
       "        vertical-align: top;\n",
       "    }\n",
       "\n",
       "    .dataframe thead th {\n",
       "        text-align: right;\n",
       "    }\n",
       "</style>\n",
       "<table border=\"1\" class=\"dataframe\">\n",
       "  <thead>\n",
       "    <tr style=\"text-align: right;\">\n",
       "      <th></th>\n",
       "      <th>day</th>\n",
       "      <th>mnth</th>\n",
       "      <th>year</th>\n",
       "      <th>season</th>\n",
       "      <th>holiday</th>\n",
       "      <th>weekday</th>\n",
       "      <th>workingday</th>\n",
       "      <th>weathersit</th>\n",
       "      <th>temp</th>\n",
       "      <th>atemp</th>\n",
       "      <th>hum</th>\n",
       "      <th>windspeed</th>\n",
       "      <th>rentals</th>\n",
       "    </tr>\n",
       "  </thead>\n",
       "  <tbody>\n",
       "    <tr>\n",
       "      <th>count</th>\n",
       "      <td>731.000000</td>\n",
       "      <td>731.000000</td>\n",
       "      <td>731.000000</td>\n",
       "      <td>731.000000</td>\n",
       "      <td>731.000000</td>\n",
       "      <td>731.000000</td>\n",
       "      <td>731.000000</td>\n",
       "      <td>731.000000</td>\n",
       "      <td>731.000000</td>\n",
       "      <td>731.000000</td>\n",
       "      <td>731.000000</td>\n",
       "      <td>731.000000</td>\n",
       "      <td>731.000000</td>\n",
       "    </tr>\n",
       "    <tr>\n",
       "      <th>mean</th>\n",
       "      <td>15.738714</td>\n",
       "      <td>6.519836</td>\n",
       "      <td>2011.500684</td>\n",
       "      <td>2.496580</td>\n",
       "      <td>0.028728</td>\n",
       "      <td>2.997264</td>\n",
       "      <td>0.683995</td>\n",
       "      <td>1.395349</td>\n",
       "      <td>0.495385</td>\n",
       "      <td>0.474354</td>\n",
       "      <td>0.627894</td>\n",
       "      <td>0.190486</td>\n",
       "      <td>848.176471</td>\n",
       "    </tr>\n",
       "    <tr>\n",
       "      <th>std</th>\n",
       "      <td>8.809949</td>\n",
       "      <td>3.451913</td>\n",
       "      <td>0.500342</td>\n",
       "      <td>1.110807</td>\n",
       "      <td>0.167155</td>\n",
       "      <td>2.004787</td>\n",
       "      <td>0.465233</td>\n",
       "      <td>0.544894</td>\n",
       "      <td>0.183051</td>\n",
       "      <td>0.162961</td>\n",
       "      <td>0.142429</td>\n",
       "      <td>0.077498</td>\n",
       "      <td>686.622488</td>\n",
       "    </tr>\n",
       "    <tr>\n",
       "      <th>min</th>\n",
       "      <td>1.000000</td>\n",
       "      <td>1.000000</td>\n",
       "      <td>2011.000000</td>\n",
       "      <td>1.000000</td>\n",
       "      <td>0.000000</td>\n",
       "      <td>0.000000</td>\n",
       "      <td>0.000000</td>\n",
       "      <td>1.000000</td>\n",
       "      <td>0.059130</td>\n",
       "      <td>0.079070</td>\n",
       "      <td>0.000000</td>\n",
       "      <td>0.022392</td>\n",
       "      <td>2.000000</td>\n",
       "    </tr>\n",
       "    <tr>\n",
       "      <th>25%</th>\n",
       "      <td>8.000000</td>\n",
       "      <td>4.000000</td>\n",
       "      <td>2011.000000</td>\n",
       "      <td>2.000000</td>\n",
       "      <td>0.000000</td>\n",
       "      <td>1.000000</td>\n",
       "      <td>0.000000</td>\n",
       "      <td>1.000000</td>\n",
       "      <td>0.337083</td>\n",
       "      <td>0.337842</td>\n",
       "      <td>0.520000</td>\n",
       "      <td>0.134950</td>\n",
       "      <td>315.500000</td>\n",
       "    </tr>\n",
       "    <tr>\n",
       "      <th>50%</th>\n",
       "      <td>16.000000</td>\n",
       "      <td>7.000000</td>\n",
       "      <td>2012.000000</td>\n",
       "      <td>3.000000</td>\n",
       "      <td>0.000000</td>\n",
       "      <td>3.000000</td>\n",
       "      <td>1.000000</td>\n",
       "      <td>1.000000</td>\n",
       "      <td>0.498333</td>\n",
       "      <td>0.486733</td>\n",
       "      <td>0.626667</td>\n",
       "      <td>0.180975</td>\n",
       "      <td>713.000000</td>\n",
       "    </tr>\n",
       "    <tr>\n",
       "      <th>75%</th>\n",
       "      <td>23.000000</td>\n",
       "      <td>10.000000</td>\n",
       "      <td>2012.000000</td>\n",
       "      <td>3.000000</td>\n",
       "      <td>0.000000</td>\n",
       "      <td>5.000000</td>\n",
       "      <td>1.000000</td>\n",
       "      <td>2.000000</td>\n",
       "      <td>0.655417</td>\n",
       "      <td>0.608602</td>\n",
       "      <td>0.730209</td>\n",
       "      <td>0.233214</td>\n",
       "      <td>1096.000000</td>\n",
       "    </tr>\n",
       "    <tr>\n",
       "      <th>max</th>\n",
       "      <td>31.000000</td>\n",
       "      <td>12.000000</td>\n",
       "      <td>2012.000000</td>\n",
       "      <td>4.000000</td>\n",
       "      <td>1.000000</td>\n",
       "      <td>6.000000</td>\n",
       "      <td>1.000000</td>\n",
       "      <td>3.000000</td>\n",
       "      <td>0.861667</td>\n",
       "      <td>0.840896</td>\n",
       "      <td>0.972500</td>\n",
       "      <td>0.507463</td>\n",
       "      <td>3410.000000</td>\n",
       "    </tr>\n",
       "  </tbody>\n",
       "</table>\n",
       "</div>"
      ],
      "text/plain": [
       "              day        mnth         year      season     holiday   \n",
       "count  731.000000  731.000000   731.000000  731.000000  731.000000  \\\n",
       "mean    15.738714    6.519836  2011.500684    2.496580    0.028728   \n",
       "std      8.809949    3.451913     0.500342    1.110807    0.167155   \n",
       "min      1.000000    1.000000  2011.000000    1.000000    0.000000   \n",
       "25%      8.000000    4.000000  2011.000000    2.000000    0.000000   \n",
       "50%     16.000000    7.000000  2012.000000    3.000000    0.000000   \n",
       "75%     23.000000   10.000000  2012.000000    3.000000    0.000000   \n",
       "max     31.000000   12.000000  2012.000000    4.000000    1.000000   \n",
       "\n",
       "          weekday  workingday  weathersit        temp       atemp         hum   \n",
       "count  731.000000  731.000000  731.000000  731.000000  731.000000  731.000000  \\\n",
       "mean     2.997264    0.683995    1.395349    0.495385    0.474354    0.627894   \n",
       "std      2.004787    0.465233    0.544894    0.183051    0.162961    0.142429   \n",
       "min      0.000000    0.000000    1.000000    0.059130    0.079070    0.000000   \n",
       "25%      1.000000    0.000000    1.000000    0.337083    0.337842    0.520000   \n",
       "50%      3.000000    1.000000    1.000000    0.498333    0.486733    0.626667   \n",
       "75%      5.000000    1.000000    2.000000    0.655417    0.608602    0.730209   \n",
       "max      6.000000    1.000000    3.000000    0.861667    0.840896    0.972500   \n",
       "\n",
       "        windspeed      rentals  \n",
       "count  731.000000   731.000000  \n",
       "mean     0.190486   848.176471  \n",
       "std      0.077498   686.622488  \n",
       "min      0.022392     2.000000  \n",
       "25%      0.134950   315.500000  \n",
       "50%      0.180975   713.000000  \n",
       "75%      0.233214  1096.000000  \n",
       "max      0.507463  3410.000000  "
      ]
     },
     "execution_count": 7,
     "metadata": {},
     "output_type": "execute_result"
    }
   ],
   "source": [
    "dataframe.describe()"
   ]
  },
  {
   "cell_type": "code",
   "execution_count": 8,
   "id": "af65e8ca",
   "metadata": {},
   "outputs": [
    {
     "data": {
      "text/plain": [
       "day           0\n",
       "mnth          0\n",
       "year          0\n",
       "season        0\n",
       "holiday       0\n",
       "weekday       0\n",
       "workingday    0\n",
       "weathersit    0\n",
       "temp          0\n",
       "atemp         0\n",
       "hum           0\n",
       "windspeed     0\n",
       "rentals       0\n",
       "dtype: int64"
      ]
     },
     "execution_count": 8,
     "metadata": {},
     "output_type": "execute_result"
    }
   ],
   "source": [
    "nulos = dataframe.isnull().sum()\n",
    "nulos"
   ]
  },
  {
   "attachments": {},
   "cell_type": "markdown",
   "id": "a9a093d9",
   "metadata": {},
   "source": [
    "## Hipótese"
   ]
  },
  {
   "cell_type": "code",
   "execution_count": 12,
   "id": "32140c54",
   "metadata": {},
   "outputs": [
    {
     "name": "stdout",
     "output_type": "stream",
     "text": [
      "count     731.000000\n",
      "mean      848.176471\n",
      "std       686.622488\n",
      "min         2.000000\n",
      "25%       315.500000\n",
      "50%       713.000000\n",
      "75%      1096.000000\n",
      "max      3410.000000\n",
      "Name: rentals, dtype: float64\n",
      "1.2664540319434734\n"
     ]
    },
    {
     "data": {
      "text/plain": [
       "<Axes: xlabel='rentals', ylabel='Count'>"
      ]
     },
     "execution_count": 12,
     "metadata": {},
     "output_type": "execute_result"
    },
    {
     "data": {
      "image/png": "[encoded data removed]",
      "text/plain": [
       "<Figure size 640x480 with 1 Axes>"
      ]
     },
     "metadata": {},
     "output_type": "display_data"
    }
   ],
   "source": [
    "# Nosso Target\n",
    "print( dataframe['rentals'].describe() )\n",
    "\n",
    "# Calcule a assimetria\n",
    "print( dataframe['rentals'].skew() )\n",
    "\n",
    "\n",
    "sns.histplot(data=dataframe, x='rentals')"
   ]
  },
  {
   "cell_type": "code",
   "execution_count": 14,
   "id": "28f09f72",
   "metadata": {},
   "outputs": [
    {
     "data": {
      "text/plain": [
       "<Axes: xlabel='Log_rentals', ylabel='Count'>"
      ]
     },
     "execution_count": 14,
     "metadata": {},
     "output_type": "execute_result"
    },
    {
     "data": {
      "image/png": "[encoded data removed]",
      "text/plain": [
       "<Figure size 640x480 with 1 Axes>"
      ]
     },
     "metadata": {},
     "output_type": "display_data"
    }
   ],
   "source": [
    "# Calculando o log do nosso target\n",
    "\n",
    "dataframe['Log_rentals'] = np.log10(dataframe['rentals'])\n",
    "\n",
    "sns.histplot(data=dataframe, x='Log_rentals')"
   ]
  },
  {
   "attachments": {},
   "cell_type": "markdown",
   "id": "752e29c7",
   "metadata": {},
   "source": [
    "## Escolhendo os hiperparâmetros desejados"
   ]
  },
  {
   "cell_type": "code",
   "execution_count": null,
   "id": "0703b797",
   "metadata": {},
   "outputs": [],
   "source": []
  },
  {
   "attachments": {},
   "cell_type": "markdown",
   "id": "b0b0e8c7",
   "metadata": {},
   "source": [
    "## Separando os dados em dados de treino e dados de teste"
   ]
  },
  {
   "cell_type": "code",
   "execution_count": null,
   "id": "049c9568",
   "metadata": {},
   "outputs": [],
   "source": []
  },
  {
   "attachments": {},
   "cell_type": "markdown",
   "id": "96166eaf",
   "metadata": {},
   "source": [
    "## Treine o modelo, usando os dados de treino"
   ]
  },
  {
   "cell_type": "code",
   "execution_count": null,
   "id": "7733dd7c",
   "metadata": {},
   "outputs": [],
   "source": []
  },
  {
   "attachments": {},
   "cell_type": "markdown",
   "id": "3ffed0a0",
   "metadata": {},
   "source": [
    "## Use o modelo treinado para fazer previsões usando os dados de teste (ou de validação)"
   ]
  },
  {
   "cell_type": "code",
   "execution_count": null,
   "id": "df3b1f55",
   "metadata": {},
   "outputs": [],
   "source": []
  },
  {
   "attachments": {},
   "cell_type": "markdown",
   "id": "48b4f7d4",
   "metadata": {},
   "source": [
    "## Avalie a performance do modelo"
   ]
  },
  {
   "cell_type": "code",
   "execution_count": null,
   "id": "25c3bb86",
   "metadata": {},
   "outputs": [],
   "source": []
  },
  {
   "attachments": {},
   "cell_type": "markdown",
   "id": "7fc692b7",
   "metadata": {},
   "source": [
    "## Deploy"
   ]
  },
  {
   "cell_type": "code",
   "execution_count": null,
   "id": "f70e6154",
   "metadata": {},
   "outputs": [],
   "source": []
  },
  {
   "cell_type": "code",
   "execution_count": null,
   "id": "f44af511",
   "metadata": {},
   "outputs": [],
   "source": []
  },
  {
   "attachments": {},
   "cell_type": "markdown",
   "id": "bfcf6974",
   "metadata": {},
   "source": [
    "Ciclo de machine learning.\n",
    "\n",
    "- 0) Conhecer os dados com os quais estamos trabalhando --- fazer todo o processo de EDA, etc., etc.\n",
    "\n",
    "\n",
    "- 1) Importar a **classe do estimador que se deseja treinar** - escolher a hipótese!\n",
    "    - Usaremos a biblioteca [scikit-learn](https://scikit-learn.org/stable/)\n",
    "  \n",
    "  \n",
    "- 2) Instanciar a classe do estimador, **escolhendo os hiperparâmetros desejados**\n",
    "    - Para a primeira versão do modelo, pode ser uma boa escolha utilizar os hiperparâmetros default;\n",
    "    - Veremos mais pra frente como escolher os hiperparâmetros adequadamente;\n",
    "   \n",
    "   \n",
    "- 3) Separe os dados em **dados de treino** e **dados de teste**.\n",
    "    - Em alguns casos, pode ser interessante criar também um conjunto de **dados de validação**\n",
    "    - Para fazer a separação, usamos o [train-test split](https://scikit-learn.org/stable/modules/generated/sklearn.model_selection.train_test_split.html)\n",
    "    \n",
    "    \n",
    "- 4) Treine o modelo, usando **os dados de treino**\n",
    "\n",
    "\n",
    "- 5) Use o modelo treinado para **fazer previsões** usando os **dados de teste** (ou **de validação**)\n",
    "\n",
    "\n",
    "- 6) **Avalie a performance do modelo com base nas previsões acima**\n",
    "\n",
    "\n",
    "- 7) Se necessário, reinicie o ciclo!\n",
    "\n",
    "\n",
    "- 8) Quando o modelo estiver suficientemente bom, faça o **deploy**"
   ]
  }
 ],
 "metadata": {
  "kernelspec": {
   "display_name": "Python 3 (ipykernel)",
   "language": "python",
   "name": "python3"
  },
  "language_info": {
   "codemirror_mode": {
    "name": "ipython",
    "version": 3
   },
   "file_extension": ".py",
   "mimetype": "text/x-python",
   "name": "python",
   "nbconvert_exporter": "python",
   "pygments_lexer": "ipython3",
   "version": "3.10.6"
  }
 },
 "nbformat": 4,
 "nbformat_minor": 5
}
